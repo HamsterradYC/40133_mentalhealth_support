{
  "cells": [
    {
      "cell_type": "code",
      "execution_count": null,
      "id": "0375be03",
      "metadata": {
        "id": "0375be03",
        "outputId": "dd55f7fe-f6e1-486b-c117-4d01210ef8b5",
        "colab": {
          "base_uri": "https://localhost:8080/"
        }
      },
      "outputs": [
        {
          "output_type": "stream",
          "name": "stdout",
          "text": [
            "hello world\n"
          ]
        }
      ],
      "source": [
        "print(\"hello world\")"
      ]
    },
    {
      "cell_type": "code",
      "source": [
        "yuxuan = 100\n",
        "\n",
        "yuxuan\n"
      ],
      "metadata": {
        "id": "DFa6y6vxhWcQ",
        "outputId": "01b7e2d5-eb3b-4f09-b85b-56ea9737b7d8",
        "colab": {
          "base_uri": "https://localhost:8080/"
        }
      },
      "id": "DFa6y6vxhWcQ",
      "execution_count": 2,
      "outputs": [
        {
          "output_type": "execute_result",
          "data": {
            "text/plain": [
              "100"
            ]
          },
          "metadata": {},
          "execution_count": 2
        }
      ]
    },
    {
      "cell_type": "code",
      "source": [],
      "metadata": {
        "id": "J8EEHf8uhWfG"
      },
      "id": "J8EEHf8uhWfG",
      "execution_count": null,
      "outputs": []
    },
    {
      "cell_type": "markdown",
      "id": "81d923f0",
      "metadata": {
        "id": "81d923f0"
      },
      "source": [
        "test"
      ]
    }
  ],
  "metadata": {
    "language_info": {
      "name": "python"
    },
    "colab": {
      "provenance": []
    },
    "kernelspec": {
      "name": "python3",
      "display_name": "Python 3"
    }
  },
  "nbformat": 4,
  "nbformat_minor": 5
}